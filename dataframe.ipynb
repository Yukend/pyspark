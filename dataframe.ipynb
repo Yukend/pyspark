{
 "cells": [
  {
   "cell_type": "code",
   "execution_count": 1,
   "metadata": {},
   "outputs": [
    {
     "name": "stderr",
     "output_type": "stream",
     "text": [
      "23/11/25 17:10:57 WARN Utils: Your hostname, ubuntu-ThinkPad-T480 resolves to a loopback address: 127.0.1.1; using 192.168.1.111 instead (on interface wlp3s0)\n",
      "23/11/25 17:10:57 WARN Utils: Set SPARK_LOCAL_IP if you need to bind to another address\n",
      "Setting default log level to \"WARN\".\n",
      "To adjust logging level use sc.setLogLevel(newLevel). For SparkR, use setLogLevel(newLevel).\n",
      "23/11/25 17:10:58 WARN NativeCodeLoader: Unable to load native-hadoop library for your platform... using builtin-java classes where applicable\n"
     ]
    }
   ],
   "source": [
    "# Create Empty RDD in PySpark\n",
    "from pyspark.sql import SparkSession\n",
    "spark = SparkSession.builder.appName('SparkByExamples.com').getOrCreate()"
   ]
  },
  {
   "cell_type": "code",
   "execution_count": 2,
   "metadata": {},
   "outputs": [],
   "source": [
    "from pyspark.sql.types import StructType, StructField, StringType, DateType, IntegerType, BooleanType, LongType, FloatType\n",
    "\n",
    "patient_schema = StructType([\n",
    "    StructField(\"patient_id\", StringType(), True),\n",
    "    StructField(\"first_name\", StringType(), True),\n",
    "    StructField(\"last_name\", StringType(), True),\n",
    "    StructField(\"date_of_birth\", DateType(), True),\n",
    "    StructField(\"gender\", StringType(), True),\n",
    "    StructField(\"address\", StringType(), True),\n",
    "    StructField(\"phone_number\", LongType(), True),\n",
    "    StructField(\"email\", StringType(), True),\n",
    "    StructField(\"diagnosis\", StringType(), True),\n",
    "    StructField(\"admission_date\", DateType(), True),\n",
    "    StructField(\"discharged\", BooleanType(), True),\n",
    "    StructField(\"organization\", StringType(), True),\n",
    "    StructField(\"practitioner\", StringType(), True)\n",
    "])\n",
    "\n",
    "organization_schema = StructType([\n",
    "    StructField(\"organization_id\", StringType(), True),\n",
    "    StructField(\"name\", StringType(), True),\n",
    "    StructField(\"phone_number\", LongType(), True),\n",
    "    StructField(\"email\", StringType(), True),\n",
    "    StructField(\"active_status\", BooleanType(), True),\n",
    "    StructField(\"address\", StringType(), True)\n",
    "])\n",
    "\n",
    "practitioner_schema = StructType([\n",
    "    StructField(\"organization\", StringType(), True),\n",
    "    StructField(\"practitioner_id\", StringType(), True),\n",
    "    StructField(\"first_name\", StringType(), True),\n",
    "    StructField(\"last_name\", StringType(), True),\n",
    "    StructField(\"date_of_birth\", DateType(), True),\n",
    "    StructField(\"gender\", StringType(), True),\n",
    "    StructField(\"address\", StringType(), True),\n",
    "    StructField(\"phone_number\", LongType(), True),\n",
    "    StructField(\"email\", StringType(), True),\n",
    "    StructField(\"active_status\", BooleanType(), True)\n",
    "])\n",
    "\n",
    "address_schema = StructType([\n",
    "    StructField(\"address_id\", StringType(), True),\n",
    "    StructField(\"street\", StringType(), True),\n",
    "    StructField(\"city\", StringType(), True),\n",
    "    StructField(\"state\", StringType(), True),\n",
    "    StructField(\"zip_code\", IntegerType(), True), \n",
    "    StructField(\"country\", StringType(), True),\n",
    "    StructField(\"type\", StringType(), True)\n",
    "])\n",
    "\n",
    "encounter_schema = StructType([\n",
    "    StructField(\"encounter_id\", StringType(), True),\n",
    "    StructField(\"encounter_date\", DateType(), True),\n",
    "    StructField(\"encounter_type\", StringType(), True),\n",
    "    StructField(\"prescription\", StringType(), True),\n",
    "    StructField(\"practitioner\", StringType(), True),\n",
    "    StructField(\"patient\", StringType(), True)\n",
    "])\n",
    "\n",
    "diagnosis_schema = StructType([\n",
    "    StructField(\"diagnosis_id\", StringType(), True),\n",
    "    StructField(\"patient\", StringType(), True),\n",
    "    StructField(\"encounter\", StringType(), True),\n",
    "    StructField(\"practitioner\", StringType(), True),\n",
    "    StructField(\"diagnosis_date\", DateType(), True),\n",
    "    StructField(\"diagnosis_type\", StringType(), True),\n",
    "    StructField(\"diagnosis_result\", StringType(), True)\n",
    "])\n",
    "\n",
    "medicine_schema = StructType([\n",
    "    StructField(\"medicine_id\", StringType(), True),\n",
    "    StructField(\"medicine_name\", StringType(), True),\n",
    "    StructField(\"manufacturer\", StringType(), True),\n",
    "    StructField(\"dosage_form\", StringType(), True),\n",
    "    StructField(\"strength\", FloatType(), True),\n",
    "    StructField(\"unit\", StringType(), True),\n",
    "    StructField(\"quantity\", IntegerType(), True),\n",
    "    StructField(\"price\", FloatType(), True),\n",
    "    StructField(\"expiry_date\", DateType(), True)\n",
    "])\n",
    "\n",
    "\n",
    "patient_df = spark.read.format(\"csv\").option(\"header\", True).schema(patient_schema).load(\"patient.csv\")\n",
    "organization_df = spark.read.format(\"csv\").option(\"header\", True).schema(organization_schema).load(\"organization.csv\")\n",
    "practitioner_df = spark.read.format(\"csv\").option(\"header\", True).schema(practitioner_schema).load(\"practitioner.csv\")\n",
    "encounter_df = spark.read.format(\"csv\").option(\"header\", True).schema(encounter_schema).load(\"encounter.csv\")\n",
    "address_df = spark.read.format(\"csv\").option(\"header\", True).schema(address_schema).load(\"address.csv\")\n",
    "diagnosis_df = spark.read.format(\"csv\").option(\"header\", True).schema(diagnosis_schema).load(\"diagnosis.csv\")\n",
    "medicine_df = spark.read.format(\"csv\").option(\"header\", True).schema(medicine_schema).load(\"medicine.csv\")\n"
   ]
  },
  {
   "cell_type": "code",
   "execution_count": 3,
   "metadata": {},
   "outputs": [],
   "source": [
    "patient_df = patient_df.dropDuplicates([\"patient_id\"])\n",
    "organization_df = organization_df.dropDuplicates([\"organization_id\"])\n",
    "practitioner_df = practitioner_df.dropDuplicates([\"practitioner_id\"])\n",
    "encounter_df = encounter_df.dropDuplicates([\"encounter_id\"])\n",
    "address_df = address_df.dropDuplicates([\"address_id\"])\n",
    "diagnosis_df = diagnosis_df.dropDuplicates([\"diagnosis_id\"])\n",
    "medicine_df = medicine_df.dropDuplicates([\"medicine_id\"])"
   ]
  },
  {
   "cell_type": "code",
   "execution_count": 4,
   "metadata": {},
   "outputs": [
    {
     "name": "stderr",
     "output_type": "stream",
     "text": [
      "                                                                                \r"
     ]
    }
   ],
   "source": [
    "patient_df.write.format(\"csv\").mode(\"append\").option(\"header\", True).save(\"patient\")\n",
    "organization_df.write.format(\"csv\").mode(\"append\").option(\"header\", True).save(\"organization\")\n",
    "practitioner_df.write.format(\"csv\").mode(\"append\").option(\"header\", True).save(\"practitioner\")\n",
    "encounter_df.write.format(\"csv\").mode(\"append\").option(\"header\", True).save(\"encounter\")\n",
    "address_df.write.format(\"csv\").mode(\"append\").option(\"header\", True).save(\"address\")\n",
    "diagnosis_df.write.format(\"csv\").mode(\"append\").option(\"header\", True).save(\"diagnosis\")\n",
    "medicine_df.write.format(\"csv\").mode(\"append\").option(\"header\", True).save(\"medicine\")"
   ]
  },
  {
   "cell_type": "code",
   "execution_count": 7,
   "metadata": {},
   "outputs": [
    {
     "data": {
      "text/plain": [
       "[Row(encounter_id='ENC29945', encounter_date=datetime.date(2020, 11, 28), encounter_type='Follow-up', prescription='Strategy answer trip half way American off.', practitioner='PRAC1805', patient='PAT18849'),\n",
       " Row(encounter_id='ENC29949', encounter_date=datetime.date(2020, 8, 9), encounter_type='Emergency', prescription='Seven statement create fill tree choose other.', practitioner='PRAC1194', patient='PAT17205'),\n",
       " Row(encounter_id='ENC29965', encounter_date=datetime.date(2020, 11, 4), encounter_type='Follow-up', prescription='Identify shoulder group cover.', practitioner='PRAC1810', patient='PAT14148'),\n",
       " Row(encounter_id='ENC29972', encounter_date=datetime.date(2020, 4, 10), encounter_type='Emergency', prescription='Bill relate possible clear feeling although everybody.', practitioner='PRAC1021', patient='PAT15524'),\n",
       " Row(encounter_id='ENC29978', encounter_date=datetime.date(2020, 12, 10), encounter_type='Follow-up', prescription='Another natural public know effect increase.', practitioner='PRAC1909', patient='PAT14376'),\n",
       " Row(encounter_id='ENC29981', encounter_date=datetime.date(2020, 6, 29), encounter_type='Follow-up', prescription='Goal argue benefit.', practitioner='PRAC1868', patient='PAT13270'),\n",
       " Row(encounter_id='ENC29985', encounter_date=datetime.date(2020, 10, 25), encounter_type='Follow-up', prescription='Car white life police.', practitioner='PRAC1648', patient='PAT17021'),\n",
       " Row(encounter_id='ENC29987', encounter_date=datetime.date(2020, 2, 12), encounter_type='Checkup', prescription='Ago story them one.', practitioner='PRAC1020', patient='PAT11015'),\n",
       " Row(encounter_id='ENC29989', encounter_date=datetime.date(2020, 12, 20), encounter_type='Follow-up', prescription='Give better attention reality word.', practitioner='PRAC1700', patient='PAT15629'),\n",
       " Row(encounter_id='ENC29994', encounter_date=datetime.date(2020, 11, 16), encounter_type='Follow-up', prescription='House exactly kind mention sea bit.', practitioner='PRAC1191', patient='PAT10446')]"
      ]
     },
     "execution_count": 7,
     "metadata": {},
     "output_type": "execute_result"
    }
   ],
   "source": [
    "from pyspark.sql import functions as f\n",
    "\n",
    "male_pat = patient_df.filter(patient_df.gender == \"Male\")\n",
    "# male_pat.show(truncate=False) # data frame\n",
    "active_org = organization_df.where(organization_df.active_status == True)\n",
    "# active_org.collect()  # list of organizations\n",
    "email_com = practitioner_df.filter(practitioner_df.email.like(\"%.com%\"))\n",
    "# email_com.head(10) # list email ending .com using regex\n",
    "enc_year = encounter_df.where(f.year(encounter_df.encounter_date) == 2020)\n",
    "# enc_year.tail(10) # list encounter using encounter year"
   ]
  }
 ],
 "metadata": {
  "kernelspec": {
   "display_name": "Python 3",
   "language": "python",
   "name": "python3"
  },
  "language_info": {
   "codemirror_mode": {
    "name": "ipython",
    "version": 3
   },
   "file_extension": ".py",
   "mimetype": "text/x-python",
   "name": "python",
   "nbconvert_exporter": "python",
   "pygments_lexer": "ipython3",
   "version": "3.8.10"
  },
  "orig_nbformat": 4
 },
 "nbformat": 4,
 "nbformat_minor": 2
}
